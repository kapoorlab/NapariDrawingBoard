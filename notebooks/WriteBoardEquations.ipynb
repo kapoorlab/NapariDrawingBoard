{
 "cells": [
  {
   "cell_type": "markdown",
   "metadata": {},
   "source": [
    "# Lets write equations"
   ]
  },
  {
   "cell_type": "code",
   "execution_count": 1,
   "metadata": {},
   "outputs": [],
   "source": [
    "import sys\n",
    "import numpy as np\n",
    "import glob\n",
    "import os\n",
    "from tifffile import imread, imwrite\n",
    "import napari\n",
    "from pathlib import Path\n"
   ]
  },
  {
   "cell_type": "code",
   "execution_count": 9,
   "metadata": {},
   "outputs": [],
   "source": [
    "EquationDir = '/Users/aimachine/GoodFellas/'\n",
    "Path(EquationDir).mkdir(exist_ok=True)\n",
    "BoardX = 2048\n",
    "BoardY = 2048\n",
    "TotalPages = 100\n",
    "Chapter = 7"
   ]
  },
  {
   "cell_type": "code",
   "execution_count": 10,
   "metadata": {},
   "outputs": [],
   "source": [
    "EquationImage = np.zeros([TotalPages, BoardY, BoardX])\n",
    "Name = \"The Good Fellas\" + str(Chapter)\n",
    "with napari.gui_qt():\n",
    "   \n",
    "    \n",
    "            viewer = napari.view_labels(EquationImage, name='Equation Derivation')\n",
    "ModifiedArray = viewer.layers['Equation Derivation'].data \n",
    "imwrite((EquationDir   +   Name + '.tif' ) , (ModifiedArray.astype('uint16'))) \n"
   ]
  },
  {
   "cell_type": "code",
   "execution_count": null,
   "metadata": {},
   "outputs": [],
   "source": []
  },
  {
   "cell_type": "code",
   "execution_count": null,
   "metadata": {},
   "outputs": [],
   "source": []
  }
 ],
 "metadata": {
  "kernelspec": {
   "display_name": "Python [conda env:NapariTrack]",
   "language": "python",
   "name": "conda-env-NapariTrack-py"
  },
  "language_info": {
   "codemirror_mode": {
    "name": "ipython",
    "version": 3
   },
   "file_extension": ".py",
   "mimetype": "text/x-python",
   "name": "python",
   "nbconvert_exporter": "python",
   "pygments_lexer": "ipython3",
   "version": "3.9.0"
  }
 },
 "nbformat": 4,
 "nbformat_minor": 2
}
